{
 "cells": [
  {
   "cell_type": "code",
   "execution_count": 1,
   "id": "b6c12b3f",
   "metadata": {},
   "outputs": [],
   "source": [
    "import numpy as np\n",
    "from scipy.stats import cauchy\n",
    "from scipy.stats import expon, anderson\n",
    "import seaborn as sns\n",
    "import matplotlib.pyplot as plt\n",
    "%matplotlib inline"
   ]
  },
  {
   "cell_type": "code",
   "execution_count": 2,
   "id": "3c0a78f6",
   "metadata": {},
   "outputs": [],
   "source": [
    "sns.set(rc={'figure.figsize': (14, 7)})"
   ]
  },
  {
   "cell_type": "markdown",
   "id": "cd7b596c",
   "metadata": {},
   "source": [
    "#### Задача 1. Предположим, мы хотим найти вероятность того, что на игральной кости при броске выпадет значение больше 4."
   ]
  },
  {
   "cell_type": "markdown",
   "id": "a0b37599",
   "metadata": {},
   "source": [
    "$P(A) = \\frac{N(A)}{N(\\Omega)}$"
   ]
  },
  {
   "cell_type": "markdown",
   "id": "4a9e47fc",
   "metadata": {},
   "source": [
    "$P(A) = \\frac{2}{6} = 0.33$"
   ]
  },
  {
   "cell_type": "code",
   "execution_count": 3,
   "id": "5a3aac4e",
   "metadata": {},
   "outputs": [
    {
     "data": {
      "text/plain": [
       "0.3333333333333333"
      ]
     },
     "execution_count": 3,
     "metadata": {},
     "output_type": "execute_result"
    }
   ],
   "source": [
    "2 / 6"
   ]
  },
  {
   "cell_type": "markdown",
   "id": "d89b5340",
   "metadata": {},
   "source": [
    "#### Задача 2. Написать функцию для вычисления факториала и рассчитать число сочетаний из 6 по 2."
   ]
  },
  {
   "cell_type": "code",
   "execution_count": 4,
   "id": "06425030",
   "metadata": {},
   "outputs": [],
   "source": [
    "def fact(x):\n",
    "    factorial = 1\n",
    "    \n",
    "    [factorial := factorial * i for i in range(1, x + 1)]\n",
    "    \n",
    "    return factorial"
   ]
  },
  {
   "cell_type": "markdown",
   "id": "bfa4baf4",
   "metadata": {},
   "source": [
    "$C_{n}^k = \\frac{n!}{k!(n - k)!} = C_{6}^2 = \\frac{6!}{2!(6 - 2)!} = \\frac{720}{48} = 15$"
   ]
  },
  {
   "cell_type": "code",
   "execution_count": 5,
   "id": "1b50ed4a",
   "metadata": {},
   "outputs": [
    {
     "data": {
      "text/plain": [
       "15"
      ]
     },
     "execution_count": 5,
     "metadata": {},
     "output_type": "execute_result"
    }
   ],
   "source": [
    "int(fact(6) / (fact(2) * fact(6 - 2)))"
   ]
  },
  {
   "cell_type": "code",
   "execution_count": 6,
   "id": "57ab96e2",
   "metadata": {},
   "outputs": [],
   "source": [
    "def combination(n, k):\n",
    "    return int(fact(n) / (fact(k) * fact(n - k)))"
   ]
  },
  {
   "cell_type": "code",
   "execution_count": 7,
   "id": "bc52f4f9",
   "metadata": {},
   "outputs": [
    {
     "data": {
      "text/plain": [
       "15"
      ]
     },
     "execution_count": 7,
     "metadata": {},
     "output_type": "execute_result"
    }
   ],
   "source": [
    "combination(6, 2)"
   ]
  },
  {
   "cell_type": "markdown",
   "id": "ebf8e47a",
   "metadata": {},
   "source": [
    "#### Задача 3. Из 30 стрелков 12 попадает в цель с вероятностью 0,6, 8 стрелков — с вероятностью 0,5, а 10 — с вероятностью 0,7. Наудачу выбранный стрелок произвёл выстрел, поразив цель. К какой из групп, вероятнее всего, принадлежал этот стрелок?"
   ]
  },
  {
   "cell_type": "markdown",
   "id": "1b13a578",
   "metadata": {},
   "source": [
    "$P(A|B) = \\frac{P(B|A)\\ *\\ P(A)}{P(B)}$"
   ]
  },
  {
   "cell_type": "markdown",
   "id": "1f35966b",
   "metadata": {},
   "source": [
    "First:"
   ]
  },
  {
   "cell_type": "markdown",
   "id": "3eb17c0a",
   "metadata": {},
   "source": [
    "$\n",
    "P(A|B) = \\frac{0.6\\ *\\ \\frac{12}{30}}{(0.6\\ *\\ \\frac{12}{30})\\ +\\ (0.5\\ *\\ \\frac{8}{30})\\ +\\ (0.7\\ *\\ \\frac{10}{30})} = \n",
    "\\frac{0.24}{0.24\\ +\\ 0.1333\\ +\\ 0.2333} = \\frac{0.24}{0.6066} = 0.3956\n",
    "$"
   ]
  },
  {
   "cell_type": "markdown",
   "id": "e6a8c079",
   "metadata": {},
   "source": [
    "Second:"
   ]
  },
  {
   "cell_type": "markdown",
   "id": "a28537bb",
   "metadata": {},
   "source": [
    "$\n",
    "P(A|B) = \\frac{0.5\\ *\\ \\frac{8}{30}}{(0.6\\ *\\ \\frac{12}{30})\\ +\\ (0.5\\ *\\ \\frac{8}{30})\\ +\\ (0.7\\ *\\ \\frac{10}{30})} = \n",
    "\\frac{0.1333}{0.24\\ +\\ 0.1333\\ +\\ 0.2333} = \\frac{0.1333}{0.6066} = 0.2198\n",
    "$"
   ]
  },
  {
   "cell_type": "markdown",
   "id": "d01d4661",
   "metadata": {},
   "source": [
    "Third:"
   ]
  },
  {
   "cell_type": "markdown",
   "id": "0e191d49",
   "metadata": {},
   "source": [
    "$\n",
    "P(A|B) = \\frac{0.7\\ *\\ \\frac{10}{30}}{(0.6\\ *\\ \\frac{12}{30})\\ +\\ (0.5\\ *\\ \\frac{8}{30})\\ +\\ (0.7\\ *\\ \\frac{10}{30})} = \n",
    "\\frac{0.2333}{0.24\\ +\\ 0.1333\\ +\\ 0.2333} = \\frac{0.2333}{0.6066} = 0.3846\n",
    "$"
   ]
  },
  {
   "cell_type": "markdown",
   "id": "8580e372",
   "metadata": {},
   "source": [
    "Видим, что вероятнее всего наудачу выбранный стрелок относится к первой группе (вероятность почти 40%)."
   ]
  },
  {
   "cell_type": "markdown",
   "id": "db932c48",
   "metadata": {},
   "source": [
    "Сумма всех вероятностей должна равняться 1:"
   ]
  },
  {
   "cell_type": "markdown",
   "id": "73ac2993",
   "metadata": {},
   "source": [
    "$0.3956 + 0.2198 + 0.3846 = 1$"
   ]
  },
  {
   "cell_type": "code",
   "execution_count": 8,
   "id": "7c70d665",
   "metadata": {},
   "outputs": [
    {
     "data": {
      "text/plain": [
       "1.0"
      ]
     },
     "execution_count": 8,
     "metadata": {},
     "output_type": "execute_result"
    }
   ],
   "source": [
    "0.3956 + 0.2198 + 0.3846"
   ]
  },
  {
   "cell_type": "code",
   "execution_count": 9,
   "id": "54968b33",
   "metadata": {},
   "outputs": [],
   "source": [
    "def bayes(b_a, a, b):\n",
    "    return b_a * a / b"
   ]
  },
  {
   "cell_type": "code",
   "execution_count": 10,
   "id": "19101ada",
   "metadata": {},
   "outputs": [
    {
     "data": {
      "text/plain": [
       "0.6066666666666666"
      ]
     },
     "execution_count": 10,
     "metadata": {},
     "output_type": "execute_result"
    }
   ],
   "source": [
    "b = 0.6 * (12 / 30) + 0.5 * (8 / 30) + 0.7 * (10 / 30)\n",
    "b"
   ]
  },
  {
   "cell_type": "code",
   "execution_count": 11,
   "id": "cabec767",
   "metadata": {},
   "outputs": [
    {
     "data": {
      "text/plain": [
       "0.39560439560439564"
      ]
     },
     "execution_count": 11,
     "metadata": {},
     "output_type": "execute_result"
    }
   ],
   "source": [
    "first = bayes(0.6, 12 / 30, b)\n",
    "first"
   ]
  },
  {
   "cell_type": "code",
   "execution_count": 12,
   "id": "6f523c17",
   "metadata": {},
   "outputs": [
    {
     "data": {
      "text/plain": [
       "0.2197802197802198"
      ]
     },
     "execution_count": 12,
     "metadata": {},
     "output_type": "execute_result"
    }
   ],
   "source": [
    "second = bayes(0.5, 8 / 30, b)\n",
    "second"
   ]
  },
  {
   "cell_type": "code",
   "execution_count": 13,
   "id": "92550652",
   "metadata": {},
   "outputs": [
    {
     "data": {
      "text/plain": [
       "0.38461538461538464"
      ]
     },
     "execution_count": 13,
     "metadata": {},
     "output_type": "execute_result"
    }
   ],
   "source": [
    "third = bayes(0.7, 10 / 30, b)\n",
    "third"
   ]
  },
  {
   "cell_type": "code",
   "execution_count": 14,
   "id": "4a8652a9",
   "metadata": {},
   "outputs": [
    {
     "data": {
      "text/plain": [
       "1.0"
      ]
     },
     "execution_count": 14,
     "metadata": {},
     "output_type": "execute_result"
    }
   ],
   "source": [
    "first + second + third"
   ]
  },
  {
   "cell_type": "markdown",
   "id": "99aa3aae",
   "metadata": {},
   "source": [
    "Ответ: первая группа."
   ]
  },
  {
   "cell_type": "markdown",
   "id": "33769dfe",
   "metadata": {},
   "source": [
    "#### Задача 4. Сгенерировать выборку реализаций случайной величины (кроме распределения Коши). Распределение можно выбрать на этом [сайте](https://docs.scipy.org/doc/scipy/reference/stats.html). Проверить ЦПТ для различных n."
   ]
  },
  {
   "cell_type": "code",
   "execution_count": 15,
   "id": "fa483175",
   "metadata": {},
   "outputs": [],
   "source": [
    "r_10 = [expon.rvs(size=100).mean() for _ in range(10)]\n",
    "r_100 = [expon.rvs(size=100).mean() for _ in range(100)]\n",
    "r_1000 = [expon.rvs(size=100).mean() for _ in range(1000)]\n",
    "r_10000 = [expon.rvs(size=100).mean() for _ in range(10000)]"
   ]
  },
  {
   "cell_type": "code",
   "execution_count": 16,
   "id": "8d07414c",
   "metadata": {},
   "outputs": [
    {
     "data": {
      "image/png": "[encoded data removed]",
      "text/plain": [
       "<Figure size 1008x504 with 4 Axes>"
      ]
     },
     "metadata": {},
     "output_type": "display_data"
    }
   ],
   "source": [
    "fig, axes = plt.subplots(2, 2)\n",
    "ax1 = sns.histplot(r_10, ax=axes[0, 0])\n",
    "ax1.set_title('n = 10')\n",
    "ax2 = sns.histplot(r_100, ax=axes[0, 1])\n",
    "ax2.set_title('n = 100')\n",
    "ax3 = sns.histplot(r_1000, ax=axes[1, 0])\n",
    "ax3.set_title('n = 1000')\n",
    "ax4 = sns.histplot(r_10000, ax=axes[1, 1])\n",
    "ax4.set_title('n = 10000');"
   ]
  },
  {
   "cell_type": "code",
   "execution_count": 17,
   "id": "5faf8ca0",
   "metadata": {},
   "outputs": [
    {
     "name": "stdout",
     "output_type": "stream",
     "text": [
      "При n = 10:\n",
      "AndersonResult(statistic=0.22346358058944027, critical_values=array([0.501, 0.57 , 0.684, 0.798, 0.95 ]), significance_level=array([15. , 10. ,  5. ,  2.5,  1. ]))\n",
      "\n",
      "При n = 100:\n",
      "AndersonResult(statistic=0.19102783379862842, critical_values=array([0.555, 0.632, 0.759, 0.885, 1.053]), significance_level=array([15. , 10. ,  5. ,  2.5,  1. ]))\n",
      "\n",
      "При n = 1000:\n",
      "AndersonResult(statistic=0.5629371813257649, critical_values=array([0.574, 0.653, 0.784, 0.914, 1.088]), significance_level=array([15. , 10. ,  5. ,  2.5,  1. ]))\n",
      "\n",
      "При n = 10000:\n",
      "AndersonResult(statistic=5.321119308477137, critical_values=array([0.576, 0.656, 0.787, 0.918, 1.092]), significance_level=array([15. , 10. ,  5. ,  2.5,  1. ]))\n"
     ]
    }
   ],
   "source": [
    "print(f'При n = 10:\\n{anderson(r_10)}\\n\\nПри n = 100:\\n{anderson(r_100)}\\n\\n'\n",
    "      f'При n = 1000:\\n{anderson(r_1000)}\\n\\nПри n = 10000:\\n{anderson(r_10000)}')"
   ]
  },
  {
   "cell_type": "markdown",
   "id": "ba17ea81",
   "metadata": {},
   "source": [
    "#### Задача 5. Попробовать применить ЦПТ к распределению Коши."
   ]
  },
  {
   "cell_type": "code",
   "execution_count": 18,
   "id": "30e76b81",
   "metadata": {},
   "outputs": [],
   "source": [
    "r = [cauchy.rvs(size=1000).mean() for _ in range(100)]"
   ]
  },
  {
   "cell_type": "code",
   "execution_count": 19,
   "id": "b4156825",
   "metadata": {},
   "outputs": [
    {
     "data": {
      "image/png": "[encoded data removed]",
      "text/plain": [
       "<Figure size 360x360 with 1 Axes>"
      ]
     },
     "metadata": {},
     "output_type": "display_data"
    }
   ],
   "source": [
    "sns.displot(np.array(r));"
   ]
  },
  {
   "cell_type": "code",
   "execution_count": 20,
   "id": "7013ac19",
   "metadata": {},
   "outputs": [
    {
     "data": {
      "text/plain": [
       "AndersonResult(statistic=13.301831708884052, critical_values=array([0.555, 0.632, 0.759, 0.885, 1.053]), significance_level=array([15. , 10. ,  5. ,  2.5,  1. ]))"
      ]
     },
     "execution_count": 20,
     "metadata": {},
     "output_type": "execute_result"
    }
   ],
   "source": [
    "anderson(np.array(r))"
   ]
  },
  {
   "cell_type": "markdown",
   "id": "ac2b5dd0",
   "metadata": {},
   "source": [
    "#### Задача 6. Посчитать основные характеристики выборки."
   ]
  },
  {
   "cell_type": "code",
   "execution_count": 21,
   "id": "0e3705bb",
   "metadata": {},
   "outputs": [],
   "source": [
    "arr = np.array(r)"
   ]
  },
  {
   "cell_type": "code",
   "execution_count": 22,
   "id": "035618b6",
   "metadata": {},
   "outputs": [
    {
     "name": "stdout",
     "output_type": "stream",
     "text": [
      "mean: -0.2003519819684499\n",
      "median: 0.16300897877037138\n",
      "min: -30.860252470739198\n",
      "max: 35.09540777251715\n",
      "std: 7.224610624016854\n"
     ]
    }
   ],
   "source": [
    "print(f'mean: {np.mean(arr)}\\nmedian: {np.median(arr)}\\nmin: {np.min(arr)}\\nmax: {np.max(arr)}\\nstd: {np.std(arr)}')"
   ]
  },
  {
   "cell_type": "markdown",
   "id": "80ffc348",
   "metadata": {},
   "source": [
    "#### Задача 7. Посчитать коэффициент корреляции для двух векторов."
   ]
  },
  {
   "cell_type": "code",
   "execution_count": 23,
   "id": "a6348709",
   "metadata": {},
   "outputs": [],
   "source": [
    "arr2 = np.array(r_100)"
   ]
  },
  {
   "cell_type": "code",
   "execution_count": 24,
   "id": "1157800e",
   "metadata": {},
   "outputs": [
    {
     "data": {
      "text/plain": [
       "(100, 100)"
      ]
     },
     "execution_count": 24,
     "metadata": {},
     "output_type": "execute_result"
    }
   ],
   "source": [
    "len(arr), len(arr2)"
   ]
  },
  {
   "cell_type": "code",
   "execution_count": 25,
   "id": "8e02791b",
   "metadata": {},
   "outputs": [
    {
     "data": {
      "text/plain": [
       "array([[ 1.        , -0.04218252],\n",
       "       [-0.04218252,  1.        ]])"
      ]
     },
     "execution_count": 25,
     "metadata": {},
     "output_type": "execute_result"
    }
   ],
   "source": [
    "np.corrcoef(arr, arr2)"
   ]
  },
  {
   "cell_type": "code",
   "execution_count": null,
   "id": "eb744e24",
   "metadata": {},
   "outputs": [],
   "source": []
  }
 ],
 "metadata": {
  "kernelspec": {
   "display_name": "Python 3 (ipykernel)",
   "language": "python",
   "name": "python3"
  },
  "language_info": {
   "codemirror_mode": {
    "name": "ipython",
    "version": 3
   },
   "file_extension": ".py",
   "mimetype": "text/x-python",
   "name": "python",
   "nbconvert_exporter": "python",
   "pygments_lexer": "ipython3",
   "version": "3.9.13"
  }
 },
 "nbformat": 4,
 "nbformat_minor": 5
}
