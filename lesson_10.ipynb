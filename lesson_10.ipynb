{
 "cells": [
  {
   "cell_type": "code",
   "execution_count": 1,
   "id": "07a31c1d",
   "metadata": {},
   "outputs": [],
   "source": [
    "import pandas as pd\n",
    "import numpy as np\n",
    "from scipy import integrate, linalg\n",
    "import matplotlib.pyplot as plt"
   ]
  },
  {
   "cell_type": "markdown",
   "id": "b1559a8a",
   "metadata": {},
   "source": [
    "### Pandas"
   ]
  },
  {
   "cell_type": "markdown",
   "id": "32864e34",
   "metadata": {},
   "source": [
    "Загрузить данные и проанализировать их (используя функции .info и .describe)"
   ]
  },
  {
   "cell_type": "code",
   "execution_count": 2,
   "id": "3db68736",
   "metadata": {},
   "outputs": [
    {
     "data": {
      "text/html": [
       "<div>\n",
       "<style scoped>\n",
       "    .dataframe tbody tr th:only-of-type {\n",
       "        vertical-align: middle;\n",
       "    }\n",
       "\n",
       "    .dataframe tbody tr th {\n",
       "        vertical-align: top;\n",
       "    }\n",
       "\n",
       "    .dataframe thead th {\n",
       "        text-align: right;\n",
       "    }\n",
       "</style>\n",
       "<table border=\"1\" class=\"dataframe\">\n",
       "  <thead>\n",
       "    <tr style=\"text-align: right;\">\n",
       "      <th></th>\n",
       "      <th>Title</th>\n",
       "      <th>Rating</th>\n",
       "      <th>Votes</th>\n",
       "      <th>Gross</th>\n",
       "      <th>Genre</th>\n",
       "      <th>Metascore</th>\n",
       "      <th>Certificate</th>\n",
       "      <th>Director</th>\n",
       "      <th>Year</th>\n",
       "      <th>Description</th>\n",
       "      <th>Runtime</th>\n",
       "    </tr>\n",
       "  </thead>\n",
       "  <tbody>\n",
       "    <tr>\n",
       "      <th>0</th>\n",
       "      <td>Sen to Chihiro no kamikakushi</td>\n",
       "      <td>8.6</td>\n",
       "      <td>747,148</td>\n",
       "      <td>$10.06M</td>\n",
       "      <td>Adventure, Family</td>\n",
       "      <td>96.0</td>\n",
       "      <td>U</td>\n",
       "      <td>Hayao Miyazaki</td>\n",
       "      <td>2001</td>\n",
       "      <td>[\"\\nDuring her family's move to the suburbs, a...</td>\n",
       "      <td>125 min</td>\n",
       "    </tr>\n",
       "    <tr>\n",
       "      <th>1</th>\n",
       "      <td>The Lion King</td>\n",
       "      <td>8.5</td>\n",
       "      <td>1,041,158</td>\n",
       "      <td>$422.78M</td>\n",
       "      <td>Adventure, Drama</td>\n",
       "      <td>88.0</td>\n",
       "      <td>U</td>\n",
       "      <td>Roger Allers</td>\n",
       "      <td>1994</td>\n",
       "      <td>['\\nLion prince Simba and his father are targe...</td>\n",
       "      <td>88 min</td>\n",
       "    </tr>\n",
       "    <tr>\n",
       "      <th>2</th>\n",
       "      <td>Hotaru no haka</td>\n",
       "      <td>8.5</td>\n",
       "      <td>272,469</td>\n",
       "      <td>NaN</td>\n",
       "      <td>Drama, War</td>\n",
       "      <td>94.0</td>\n",
       "      <td>U</td>\n",
       "      <td>Isao Takahata</td>\n",
       "      <td>1988</td>\n",
       "      <td>['\\nA young boy and his little sister struggle...</td>\n",
       "      <td>89 min</td>\n",
       "    </tr>\n",
       "    <tr>\n",
       "      <th>3</th>\n",
       "      <td>Kimi no na wa.</td>\n",
       "      <td>8.4</td>\n",
       "      <td>259,975</td>\n",
       "      <td>$5.02M</td>\n",
       "      <td>Drama, Fantasy</td>\n",
       "      <td>79.0</td>\n",
       "      <td>U</td>\n",
       "      <td>Makoto Shinkai</td>\n",
       "      <td>2016</td>\n",
       "      <td>['\\nTwo strangers find themselves linked in a ...</td>\n",
       "      <td>106 min</td>\n",
       "    </tr>\n",
       "    <tr>\n",
       "      <th>4</th>\n",
       "      <td>Spider-Man: Into the Spider-Verse</td>\n",
       "      <td>8.4</td>\n",
       "      <td>510,227</td>\n",
       "      <td>$190.24M</td>\n",
       "      <td>Action, Adventure</td>\n",
       "      <td>87.0</td>\n",
       "      <td>U</td>\n",
       "      <td>Bob Persichetti</td>\n",
       "      <td>2018</td>\n",
       "      <td>['\\nTeen Miles Morales becomes the Spider-Man ...</td>\n",
       "      <td>117 min</td>\n",
       "    </tr>\n",
       "  </tbody>\n",
       "</table>\n",
       "</div>"
      ],
      "text/plain": [
       "                               Title  Rating      Votes     Gross  \\\n",
       "0      Sen to Chihiro no kamikakushi     8.6    747,148   $10.06M   \n",
       "1                      The Lion King     8.5  1,041,158  $422.78M   \n",
       "2                     Hotaru no haka     8.5    272,469       NaN   \n",
       "3                     Kimi no na wa.     8.4    259,975    $5.02M   \n",
       "4  Spider-Man: Into the Spider-Verse     8.4    510,227  $190.24M   \n",
       "\n",
       "                Genre  Metascore Certificate         Director  Year  \\\n",
       "0   Adventure, Family       96.0           U   Hayao Miyazaki  2001   \n",
       "1    Adventure, Drama       88.0           U     Roger Allers  1994   \n",
       "2          Drama, War       94.0           U    Isao Takahata  1988   \n",
       "3      Drama, Fantasy       79.0           U   Makoto Shinkai  2016   \n",
       "4   Action, Adventure       87.0           U  Bob Persichetti  2018   \n",
       "\n",
       "                                         Description  Runtime  \n",
       "0  [\"\\nDuring her family's move to the suburbs, a...  125 min  \n",
       "1  ['\\nLion prince Simba and his father are targe...   88 min  \n",
       "2  ['\\nA young boy and his little sister struggle...   89 min  \n",
       "3  ['\\nTwo strangers find themselves linked in a ...  106 min  \n",
       "4  ['\\nTeen Miles Morales becomes the Spider-Man ...  117 min  "
      ]
     },
     "execution_count": 2,
     "metadata": {},
     "output_type": "execute_result"
    }
   ],
   "source": [
    "data = pd.read_csv('TopAnimatedImDb.csv')\n",
    "data.head()"
   ]
  },
  {
   "cell_type": "code",
   "execution_count": 3,
   "id": "c1356383",
   "metadata": {},
   "outputs": [
    {
     "name": "stdout",
     "output_type": "stream",
     "text": [
      "<class 'pandas.core.frame.DataFrame'>\n",
      "RangeIndex: 85 entries, 0 to 84\n",
      "Data columns (total 11 columns):\n",
      " #   Column       Non-Null Count  Dtype  \n",
      "---  ------       --------------  -----  \n",
      " 0   Title        85 non-null     object \n",
      " 1   Rating       85 non-null     float64\n",
      " 2   Votes        85 non-null     object \n",
      " 3   Gross        50 non-null     object \n",
      " 4   Genre        85 non-null     object \n",
      " 5   Metascore    80 non-null     float64\n",
      " 6   Certificate  84 non-null     object \n",
      " 7   Director     85 non-null     object \n",
      " 8   Year         85 non-null     int64  \n",
      " 9   Description  85 non-null     object \n",
      " 10  Runtime      85 non-null     object \n",
      "dtypes: float64(2), int64(1), object(8)\n",
      "memory usage: 7.4+ KB\n"
     ]
    }
   ],
   "source": [
    "data.info()"
   ]
  },
  {
   "cell_type": "code",
   "execution_count": 4,
   "id": "6fdc4e6c",
   "metadata": {},
   "outputs": [
    {
     "data": {
      "text/html": [
       "<div>\n",
       "<style scoped>\n",
       "    .dataframe tbody tr th:only-of-type {\n",
       "        vertical-align: middle;\n",
       "    }\n",
       "\n",
       "    .dataframe tbody tr th {\n",
       "        vertical-align: top;\n",
       "    }\n",
       "\n",
       "    .dataframe thead th {\n",
       "        text-align: right;\n",
       "    }\n",
       "</style>\n",
       "<table border=\"1\" class=\"dataframe\">\n",
       "  <thead>\n",
       "    <tr style=\"text-align: right;\">\n",
       "      <th></th>\n",
       "      <th>Rating</th>\n",
       "      <th>Metascore</th>\n",
       "      <th>Year</th>\n",
       "    </tr>\n",
       "  </thead>\n",
       "  <tbody>\n",
       "    <tr>\n",
       "      <th>count</th>\n",
       "      <td>85.000000</td>\n",
       "      <td>80.000000</td>\n",
       "      <td>85.000000</td>\n",
       "    </tr>\n",
       "    <tr>\n",
       "      <th>mean</th>\n",
       "      <td>7.922353</td>\n",
       "      <td>80.850000</td>\n",
       "      <td>2003.211765</td>\n",
       "    </tr>\n",
       "    <tr>\n",
       "      <th>std</th>\n",
       "      <td>0.257449</td>\n",
       "      <td>8.965616</td>\n",
       "      <td>15.255830</td>\n",
       "    </tr>\n",
       "    <tr>\n",
       "      <th>min</th>\n",
       "      <td>7.600000</td>\n",
       "      <td>59.000000</td>\n",
       "      <td>1937.000000</td>\n",
       "    </tr>\n",
       "    <tr>\n",
       "      <th>25%</th>\n",
       "      <td>7.700000</td>\n",
       "      <td>74.000000</td>\n",
       "      <td>1995.000000</td>\n",
       "    </tr>\n",
       "    <tr>\n",
       "      <th>50%</th>\n",
       "      <td>7.900000</td>\n",
       "      <td>82.000000</td>\n",
       "      <td>2007.000000</td>\n",
       "    </tr>\n",
       "    <tr>\n",
       "      <th>75%</th>\n",
       "      <td>8.100000</td>\n",
       "      <td>87.000000</td>\n",
       "      <td>2014.000000</td>\n",
       "    </tr>\n",
       "    <tr>\n",
       "      <th>max</th>\n",
       "      <td>8.600000</td>\n",
       "      <td>96.000000</td>\n",
       "      <td>2021.000000</td>\n",
       "    </tr>\n",
       "  </tbody>\n",
       "</table>\n",
       "</div>"
      ],
      "text/plain": [
       "          Rating  Metascore         Year\n",
       "count  85.000000  80.000000    85.000000\n",
       "mean    7.922353  80.850000  2003.211765\n",
       "std     0.257449   8.965616    15.255830\n",
       "min     7.600000  59.000000  1937.000000\n",
       "25%     7.700000  74.000000  1995.000000\n",
       "50%     7.900000  82.000000  2007.000000\n",
       "75%     8.100000  87.000000  2014.000000\n",
       "max     8.600000  96.000000  2021.000000"
      ]
     },
     "execution_count": 4,
     "metadata": {},
     "output_type": "execute_result"
    }
   ],
   "source": [
    "data.describe()"
   ]
  },
  {
   "cell_type": "markdown",
   "id": "125337b4",
   "metadata": {},
   "source": [
    "Вывести отдельно интересующую колонку и столбец"
   ]
  },
  {
   "cell_type": "code",
   "execution_count": 5,
   "id": "92e7e768",
   "metadata": {},
   "outputs": [
    {
     "data": {
      "text/plain": [
       "0          Hayao Miyazaki\n",
       "1            Roger Allers\n",
       "2           Isao Takahata\n",
       "3          Makoto Shinkai\n",
       "4         Bob Persichetti\n",
       "             ...         \n",
       "80           Mark Osborne\n",
       "81          Tony Bancroft\n",
       "82           Ron Clements\n",
       "83    Wolfgang Reitherman\n",
       "84       William Cottrell\n",
       "Name: Director, Length: 85, dtype: object"
      ]
     },
     "execution_count": 5,
     "metadata": {},
     "output_type": "execute_result"
    }
   ],
   "source": [
    "data['Director']"
   ]
  },
  {
   "cell_type": "code",
   "execution_count": 6,
   "id": "0a0c371d",
   "metadata": {},
   "outputs": [
    {
     "data": {
      "text/plain": [
       "Title                                             Kimi no na wa.\n",
       "Rating                                                       8.4\n",
       "Votes                                                    259,975\n",
       "Gross                                                     $5.02M\n",
       "Genre                                             Drama, Fantasy\n",
       "Metascore                                                   79.0\n",
       "Certificate                                                    U\n",
       "Director                                          Makoto Shinkai\n",
       "Year                                                        2016\n",
       "Description    ['\\nTwo strangers find themselves linked in a ...\n",
       "Runtime                                                  106 min\n",
       "Name: 3, dtype: object"
      ]
     },
     "execution_count": 6,
     "metadata": {},
     "output_type": "execute_result"
    }
   ],
   "source": [
    "data.iloc[3]"
   ]
  },
  {
   "cell_type": "markdown",
   "id": "a1cc98ab",
   "metadata": {},
   "source": [
    "### Numpy"
   ]
  },
  {
   "cell_type": "markdown",
   "id": "c683d603",
   "metadata": {},
   "source": [
    "Создать вектор (одномерный массив) размера 10, заполненный нулями"
   ]
  },
  {
   "cell_type": "code",
   "execution_count": 7,
   "id": "309d2cd1",
   "metadata": {},
   "outputs": [
    {
     "data": {
      "text/plain": [
       "array([0, 0, 0, 0, 0, 0, 0, 0, 0, 0])"
      ]
     },
     "execution_count": 7,
     "metadata": {},
     "output_type": "execute_result"
    }
   ],
   "source": [
    "arr = np.arange(10)\n",
    "arr = np.zeros_like(arr)\n",
    "arr"
   ]
  },
  {
   "cell_type": "markdown",
   "id": "e0ac5373",
   "metadata": {},
   "source": [
    "Создать вектор размера 10, заполненный числом 5.8"
   ]
  },
  {
   "cell_type": "code",
   "execution_count": 8,
   "id": "33fef6bc",
   "metadata": {},
   "outputs": [
    {
     "data": {
      "text/plain": [
       "array([5.8, 5.8, 5.8, 5.8, 5.8, 5.8, 5.8, 5.8, 5.8, 5.8])"
      ]
     },
     "execution_count": 8,
     "metadata": {},
     "output_type": "execute_result"
    }
   ],
   "source": [
    "arr = np.empty(10)\n",
    "arr.fill(5.8)\n",
    "arr"
   ]
  },
  {
   "cell_type": "markdown",
   "id": "216fefec",
   "metadata": {},
   "source": [
    "Создать массив 3x3x3 со случайными значениями"
   ]
  },
  {
   "cell_type": "code",
   "execution_count": 9,
   "id": "689f1960",
   "metadata": {},
   "outputs": [
    {
     "data": {
      "text/plain": [
       "array([[[0.72449921, 0.62743592, 0.38380761],\n",
       "        [0.24004682, 0.05069733, 0.82607241],\n",
       "        [0.54714543, 0.95390273, 0.69482191]],\n",
       "\n",
       "       [[0.61149419, 0.05543848, 0.31302483],\n",
       "        [0.01785245, 0.98829673, 0.32134113],\n",
       "        [0.54256977, 0.99696862, 0.3092181 ]],\n",
       "\n",
       "       [[0.45048608, 0.37858282, 0.24917807],\n",
       "        [0.1014724 , 0.19347219, 0.21708767],\n",
       "        [0.27385665, 0.41128545, 0.28123373]]])"
      ]
     },
     "execution_count": 9,
     "metadata": {},
     "output_type": "execute_result"
    }
   ],
   "source": [
    "arr = np.random.random((3, 3, 3))\n",
    "arr"
   ]
  },
  {
   "cell_type": "markdown",
   "id": "728e4683",
   "metadata": {},
   "source": [
    "Создать 8x8 матрицу и заполнить её в шахматном порядке"
   ]
  },
  {
   "cell_type": "code",
   "execution_count": 10,
   "id": "0e29a845",
   "metadata": {},
   "outputs": [
    {
     "data": {
      "text/plain": [
       "array([[0, 1, 0, 1, 0, 1, 0, 1],\n",
       "       [1, 0, 1, 0, 1, 0, 1, 0],\n",
       "       [0, 1, 0, 1, 0, 1, 0, 1],\n",
       "       [1, 0, 1, 0, 1, 0, 1, 0],\n",
       "       [0, 1, 0, 1, 0, 1, 0, 1],\n",
       "       [1, 0, 1, 0, 1, 0, 1, 0],\n",
       "       [0, 1, 0, 1, 0, 1, 0, 1],\n",
       "       [1, 0, 1, 0, 1, 0, 1, 0]])"
      ]
     },
     "execution_count": 10,
     "metadata": {},
     "output_type": "execute_result"
    }
   ],
   "source": [
    "arr = np.tile(np.array([[0, 1], [1, 0]]), (4, 4))\n",
    "arr"
   ]
  },
  {
   "cell_type": "markdown",
   "id": "2a80f57e",
   "metadata": {},
   "source": [
    "Создать матрицу 4 на 4 и заполнить её произвольными числами (понадобится в дальнейшем)"
   ]
  },
  {
   "cell_type": "code",
   "execution_count": 11,
   "id": "3e495346",
   "metadata": {},
   "outputs": [
    {
     "data": {
      "text/plain": [
       "array([[0.47047194, 0.98145208, 0.78444087, 0.87808453],\n",
       "       [0.70578686, 0.64774799, 0.87734229, 0.98823778],\n",
       "       [0.53408335, 0.39199428, 0.37682355, 0.03413036],\n",
       "       [0.87974677, 0.585613  , 0.46607118, 0.28535044]])"
      ]
     },
     "execution_count": 11,
     "metadata": {},
     "output_type": "execute_result"
    }
   ],
   "source": [
    "arr = np.random.random((4, 4))\n",
    "arr"
   ]
  },
  {
   "cell_type": "markdown",
   "id": "e8abb6c9",
   "metadata": {},
   "source": [
    "### Scipy"
   ]
  },
  {
   "cell_type": "markdown",
   "id": "a3b1383e",
   "metadata": {},
   "source": [
    "Взять интеграл $\\int_{-3}^{10} sin(x)* x^{2} \\,dx $"
   ]
  },
  {
   "cell_type": "code",
   "execution_count": 12,
   "id": "eabab528",
   "metadata": {},
   "outputs": [
    {
     "data": {
      "text/plain": [
       "(63.57192010714263, 2.177803784883395e-12)"
      ]
     },
     "execution_count": 12,
     "metadata": {},
     "output_type": "execute_result"
    }
   ],
   "source": [
    "f1 = lambda x: np.sin(x) * x**2\n",
    "integrate.quad(f1, -3, 10)"
   ]
  },
  {
   "cell_type": "markdown",
   "id": "d23e79dd",
   "metadata": {},
   "source": [
    "Определитель матрицы arr:"
   ]
  },
  {
   "cell_type": "code",
   "execution_count": 13,
   "id": "a0cf49d1",
   "metadata": {},
   "outputs": [
    {
     "data": {
      "text/plain": [
       "0.05944350673513244"
      ]
     },
     "execution_count": 13,
     "metadata": {},
     "output_type": "execute_result"
    }
   ],
   "source": [
    "linalg.det(arr)"
   ]
  },
  {
   "cell_type": "markdown",
   "id": "7d627431",
   "metadata": {},
   "source": [
    "Обратная матрица:"
   ]
  },
  {
   "cell_type": "code",
   "execution_count": 14,
   "id": "70aada0a",
   "metadata": {},
   "outputs": [
    {
     "data": {
      "text/plain": [
       "array([[-0.9888822 ,  0.26059946, -1.40319113,  2.30831729],\n",
       "       [ 2.09135962, -2.10975141, -0.60898226,  0.94385807],\n",
       "       [-0.77620828,  1.76740586,  5.59937084, -4.40212853],\n",
       "       [ 0.02455523,  0.63956235, -3.56973189,  1.64091211]])"
      ]
     },
     "execution_count": 14,
     "metadata": {},
     "output_type": "execute_result"
    }
   ],
   "source": [
    "linalg.inv(arr)"
   ]
  },
  {
   "cell_type": "markdown",
   "id": "91259d0d",
   "metadata": {},
   "source": [
    "Собственные значения к матрице arr:"
   ]
  },
  {
   "cell_type": "code",
   "execution_count": 15,
   "id": "60795380",
   "metadata": {},
   "outputs": [
    {
     "data": {
      "text/plain": [
       "(array([ 2.48762373+0.j        , -0.41566932+0.14056053j,\n",
       "        -0.41566932-0.14056053j,  0.12410884+0.j        ]),\n",
       " array([[-0.59671577+0.j        , -0.07174223+0.30008579j,\n",
       "         -0.07174223-0.30008579j,  0.25436669+0.j        ],\n",
       "        [-0.60260164+0.j        , -0.69828759+0.j        ,\n",
       "         -0.69828759-0.j        ,  0.14620408+0.j        ],\n",
       "        [-0.27026206+0.j        ,  0.39617217-0.12317112j,\n",
       "          0.39617217+0.12317112j, -0.82872283+0.j        ],\n",
       "        [-0.45580695+0.j        ,  0.45093119-0.20428793j,\n",
       "          0.45093119+0.20428793j,  0.47659252+0.j        ]]))"
      ]
     },
     "execution_count": 15,
     "metadata": {},
     "output_type": "execute_result"
    }
   ],
   "source": [
    "linalg.eig(arr)"
   ]
  },
  {
   "cell_type": "markdown",
   "id": "7be87756",
   "metadata": {},
   "source": [
    "### Matplotlib"
   ]
  },
  {
   "cell_type": "markdown",
   "id": "5d42e7b5",
   "metadata": {},
   "source": [
    "Нарисовать график sin(x), подписать оси, добавить сетку:"
   ]
  },
  {
   "cell_type": "code",
   "execution_count": 16,
   "id": "10ff0a5a",
   "metadata": {},
   "outputs": [
    {
     "data": {
      "image/png": "[encoded data removed]",
      "text/plain": [
       "<Figure size 432x288 with 1 Axes>"
      ]
     },
     "metadata": {
      "needs_background": "light"
     },
     "output_type": "display_data"
    }
   ],
   "source": [
    "step = 0.1\n",
    "x = np.arange(0, np.pi, step)\n",
    "y = np.sin(x)\n",
    "\n",
    "fig = plt.figure()\n",
    "plt.plot(x, y)\n",
    "plt.grid()\n",
    "\n",
    "plt.title('График sin(x)')\n",
    "plt.ylabel('Ось y')\n",
    "plt.xlabel('Ось x');"
   ]
  },
  {
   "cell_type": "markdown",
   "id": "d9677ee8",
   "metadata": {},
   "source": [
    "Нарисовать график sin(x) и cos(x) на одном subplot'е и на разных, задать цвета, которые больше нравятся"
   ]
  },
  {
   "cell_type": "code",
   "execution_count": 17,
   "id": "39b393a8",
   "metadata": {},
   "outputs": [
    {
     "data": {
      "image/png": "[encoded data removed]",
      "text/plain": [
       "<Figure size 432x288 with 1 Axes>"
      ]
     },
     "metadata": {
      "needs_background": "light"
     },
     "output_type": "display_data"
    }
   ],
   "source": [
    "fig_1 = plt.figure()\n",
    "plt.plot(x, y, 'purple', x, np.cos(x), 'red')\n",
    "plt.grid()\n",
    "plt.title('Графики sin и cos')\n",
    "plt.xlabel('x')\n",
    "plt.ylabel('y')\n",
    "plt.show();"
   ]
  },
  {
   "cell_type": "code",
   "execution_count": 18,
   "id": "3370ea78",
   "metadata": {},
   "outputs": [
    {
     "data": {
      "image/png": "[encoded data removed]",
      "text/plain": [
       "<Figure size 576x576 with 2 Axes>"
      ]
     },
     "metadata": {
      "needs_background": "light"
     },
     "output_type": "display_data"
    }
   ],
   "source": [
    "plt.figure(figsize = (8, 8))\n",
    "\n",
    "plt.subplot(2, 2, 1)\n",
    "plt.plot(x, y, 'purple');\n",
    "\n",
    "plt.subplot(2, 2, 2)\n",
    "plt.plot(x, np.cos(x), 'red');"
   ]
  },
  {
   "cell_type": "code",
   "execution_count": null,
   "id": "6be60baa",
   "metadata": {},
   "outputs": [],
   "source": []
  }
 ],
 "metadata": {
  "kernelspec": {
   "display_name": "Python 3 (ipykernel)",
   "language": "python",
   "name": "python3"
  },
  "language_info": {
   "codemirror_mode": {
    "name": "ipython",
    "version": 3
   },
   "file_extension": ".py",
   "mimetype": "text/x-python",
   "name": "python",
   "nbconvert_exporter": "python",
   "pygments_lexer": "ipython3",
   "version": "3.9.13"
  }
 },
 "nbformat": 4,
 "nbformat_minor": 5
}
