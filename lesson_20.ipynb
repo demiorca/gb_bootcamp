{
 "cells": [
  {
   "cell_type": "code",
   "execution_count": 1,
   "id": "a8d4733f",
   "metadata": {},
   "outputs": [],
   "source": [
    "import numpy as np"
   ]
  },
  {
   "cell_type": "markdown",
   "id": "c8df0eb5",
   "metadata": {},
   "source": [
    "#### 1. Найти A + B:"
   ]
  },
  {
   "cell_type": "markdown",
   "id": "7c782b24",
   "metadata": {},
   "source": [
    "$A = \n",
    "\\begin{pmatrix}\n",
    "1 & 3 & 0\\\\\n",
    "2 & -4 & 3\\\\\n",
    "5 & 6 & 9\n",
    "\\end{pmatrix}\n",
    ",\\\n",
    "B = \n",
    "\\begin{pmatrix}\n",
    "10 & 6 & -2\\\\\n",
    "0 & 7 & 4\\\\\n",
    "-1 & 2 & 0\n",
    "\\end{pmatrix}\n",
    "$"
   ]
  },
  {
   "cell_type": "markdown",
   "id": "f70dba94",
   "metadata": {},
   "source": [
    "$C_{11} = A_{11} + B_{11} = 1 + 10 = 11$"
   ]
  },
  {
   "cell_type": "markdown",
   "id": "2ac1d5e1",
   "metadata": {},
   "source": [
    "$C_{12} = A_{12} + B_{12} = 3 + 6 = 9$"
   ]
  },
  {
   "cell_type": "markdown",
   "id": "61810ba0",
   "metadata": {},
   "source": [
    "$C_{13} = A_{13} + B_{13} = 0 + (-2) = -2$"
   ]
  },
  {
   "cell_type": "markdown",
   "id": "b7151631",
   "metadata": {},
   "source": [
    "$C_{21} = A_{21} + B_{21} = 2 + 0 = 2$"
   ]
  },
  {
   "cell_type": "markdown",
   "id": "0ebfeb1c",
   "metadata": {},
   "source": [
    "$C_{22} = A_{22} + B_{22} = -4 + 7 = 3$"
   ]
  },
  {
   "cell_type": "markdown",
   "id": "b03a147e",
   "metadata": {},
   "source": [
    "$C_{23} = A_{23} + B_{23} = 3 + 4 = 7$"
   ]
  },
  {
   "cell_type": "markdown",
   "id": "afa2489b",
   "metadata": {},
   "source": [
    "$C_{31} = A_{31} + B_{31} = 5 + (-1) = 4$"
   ]
  },
  {
   "cell_type": "markdown",
   "id": "01e61ce1",
   "metadata": {},
   "source": [
    "$C_{32} = A_{32} + B_{32} = 6 + 2 = 8$"
   ]
  },
  {
   "cell_type": "markdown",
   "id": "3190413e",
   "metadata": {},
   "source": [
    "$C_{33} = A_{33} + B_{33} = 9 + 0 = 9$"
   ]
  },
  {
   "cell_type": "markdown",
   "id": "17b9826f",
   "metadata": {},
   "source": [
    "$C = A + B = \n",
    "\\begin{pmatrix}\n",
    "11 & 9 & -2\\\\\n",
    "2 & 3 & 7\\\\\n",
    "4 & 8 & 9\n",
    "\\end{pmatrix}\n",
    "$"
   ]
  },
  {
   "cell_type": "markdown",
   "id": "420b0238",
   "metadata": {},
   "source": [
    "При сложении B + A получим тот же результат из-за переместительного закона."
   ]
  },
  {
   "cell_type": "code",
   "execution_count": 2,
   "id": "f3334343",
   "metadata": {},
   "outputs": [
    {
     "name": "stdout",
     "output_type": "stream",
     "text": [
      "A + B:\n",
      "[[11  9 -2]\n",
      " [ 2  3  7]\n",
      " [ 4  8  9]]\n",
      "\n",
      "B + A:\n",
      "[[11  9 -2]\n",
      " [ 2  3  7]\n",
      " [ 4  8  9]]\n"
     ]
    }
   ],
   "source": [
    "A = np.array([[1, 3, 0],\n",
    "              [2, -4, 3],\n",
    "              [5, 6, 9]])\n",
    "B = np.array([[10, 6, -2],\n",
    "               [0, 7, 4],\n",
    "               [-1, 2, 0]])\n",
    "print('A + B:')\n",
    "C_1 = A + B\n",
    "C_2 = B + A\n",
    "print(C_1)\n",
    "print()\n",
    "print('B + A:')\n",
    "print(C_2)"
   ]
  },
  {
   "cell_type": "markdown",
   "id": "0b15dbb4",
   "metadata": {},
   "source": [
    "#### 1. Найти A * B:"
   ]
  },
  {
   "cell_type": "markdown",
   "id": "a5391e6c",
   "metadata": {},
   "source": [
    "$A = \n",
    "\\begin{pmatrix}\n",
    "2 & 8\\\\\n",
    "3 & 4\n",
    "\\end{pmatrix}\n",
    ",\\\n",
    "B = \n",
    "\\begin{pmatrix}\n",
    "1 & 0\\\\\n",
    "4 & 9\n",
    "\\end{pmatrix}\n",
    "$"
   ]
  },
  {
   "cell_type": "markdown",
   "id": "caa480d1",
   "metadata": {},
   "source": [
    "$C_{11} = A_{11} * B_{11} + A_{12} * B_{21} = 2 * 1 + 8 * 4 = 2 + 32 = 34$"
   ]
  },
  {
   "cell_type": "markdown",
   "id": "5bcc46bd",
   "metadata": {},
   "source": [
    "$C_{12} = A_{11} * B_{12} + A_{12} * B_{22} = 2 * 0 + 8 * 9 = 0 + 72 = 72$"
   ]
  },
  {
   "cell_type": "markdown",
   "id": "8d3e7a99",
   "metadata": {},
   "source": [
    "$C_{21} = A_{21} * B_{11} + A_{22} * B_{21} = 3 * 1 + 4 * 4 = 3 + 16 = 19$"
   ]
  },
  {
   "cell_type": "markdown",
   "id": "d7381f9b",
   "metadata": {},
   "source": [
    "$C_{22} = A_{21} * B_{12} + A_{22} * B_{22} = 3 * 0 + 4 * 9 = 0 + 36 = 36$"
   ]
  },
  {
   "cell_type": "markdown",
   "id": "4e96a779",
   "metadata": {},
   "source": [
    "$C = A * B = \n",
    "\\begin{pmatrix}\n",
    "34 & 72\\\\\n",
    "19 & 36\n",
    "\\end{pmatrix}\n",
    "$"
   ]
  },
  {
   "cell_type": "markdown",
   "id": "3c413bc6",
   "metadata": {},
   "source": [
    "Найдём B * A, так как при умножении матриц друг на друга переместительный закон не работает:"
   ]
  },
  {
   "cell_type": "markdown",
   "id": "9877c990",
   "metadata": {},
   "source": [
    "$C_{11} = B_{11} * A_{11} + B_{12} * A_{21} = 1 * 2 + 0 * 3 = 2 + 0 = 2$"
   ]
  },
  {
   "cell_type": "markdown",
   "id": "ab3d64ec",
   "metadata": {},
   "source": [
    "$C_{12} = B_{11} * A_{12} + B_{12} * A_{22} = 1 * 8 + 0 * 4 = 8 + 0 = 8$"
   ]
  },
  {
   "cell_type": "markdown",
   "id": "e5ec56b4",
   "metadata": {},
   "source": [
    "$C_{21} = B_{21} * A_{11} + B_{22} * A_{21} = 4 * 2 + 9 * 3 = 8 + 27 = 35$"
   ]
  },
  {
   "cell_type": "markdown",
   "id": "8e249535",
   "metadata": {},
   "source": [
    "$C_{22} = B_{21} * A_{12} + B_{22} * A_{22} = 4 * 8 + 9 * 4 = 32 + 36 = 68$"
   ]
  },
  {
   "cell_type": "markdown",
   "id": "581fd1d6",
   "metadata": {},
   "source": [
    "$C = B * A = \n",
    "\\begin{pmatrix}\n",
    "2 & 8\\\\\n",
    "35 & 68\n",
    "\\end{pmatrix}\n",
    "$"
   ]
  },
  {
   "cell_type": "code",
   "execution_count": 3,
   "id": "4efc32b2",
   "metadata": {},
   "outputs": [
    {
     "name": "stdout",
     "output_type": "stream",
     "text": [
      "A * B:\n",
      "[[34 72]\n",
      " [19 36]]\n",
      "\n",
      "B * A:\n",
      "[[ 2  8]\n",
      " [35 68]]\n"
     ]
    }
   ],
   "source": [
    "A = np.array([[2, 8],\n",
    "              [3, 4]])\n",
    "B = np.array([[1, 0],\n",
    "              [4, 9]])\n",
    "\n",
    "print('A * B:')\n",
    "C_1 = np.dot(A, B)\n",
    "C_2 = np.dot(B, A)\n",
    "print(C_1)\n",
    "print()\n",
    "print('B * A:')\n",
    "print(C_2)"
   ]
  },
  {
   "cell_type": "markdown",
   "id": "4ff1052b",
   "metadata": {},
   "source": [
    "#### 3. Вычислить определители:"
   ]
  },
  {
   "cell_type": "markdown",
   "id": "a31ac37e",
   "metadata": {},
   "source": [
    "$\n",
    "\\begin{vmatrix}\n",
    "3 & 7\\\\\n",
    "6 & 9\n",
    "\\end{vmatrix}\n",
    "$"
   ]
  },
  {
   "cell_type": "markdown",
   "id": "365279dc",
   "metadata": {},
   "source": [
    "$\\Delta A = A_{11} * A_{22} - A_{12} * A_{21} = 3 * 9 - 7 * 6 = 27 - 42 = -15$"
   ]
  },
  {
   "cell_type": "code",
   "execution_count": 4,
   "id": "64466093",
   "metadata": {},
   "outputs": [
    {
     "data": {
      "text/plain": [
       "-15"
      ]
     },
     "execution_count": 4,
     "metadata": {},
     "output_type": "execute_result"
    }
   ],
   "source": [
    "A = np.array([[3, 7],\n",
    "              [6, 9]])\n",
    "\n",
    "round(np.linalg.det(A))"
   ]
  },
  {
   "cell_type": "markdown",
   "id": "892d95e8",
   "metadata": {},
   "source": [
    "$\n",
    "\\begin{vmatrix}\n",
    "4 & 1 & 9\\\\\n",
    "3 & 2 & 0\\\\\n",
    "8 & 7 & 5\n",
    "\\end{vmatrix}\n",
    "$"
   ]
  },
  {
   "cell_type": "markdown",
   "id": "b2f0ccf7",
   "metadata": {},
   "source": [
    "$\\Delta A = A_{11} * A_{22} * A_{33} + A_{12} * A_{23} * A_{31} + A_{13} * A_{21} * A_{32} - \n",
    "A_{13} * A_{22} * A_{31} - A_{11} * A_{23} * A_{32} - A_{12} * A_{21} * A_{33}$"
   ]
  },
  {
   "cell_type": "markdown",
   "id": "bf1e2c04",
   "metadata": {},
   "source": [
    "$\\Delta A = 4 * 2 * 5 + 1 * 0 * 8 + 9 * 3 * 7 - 9 * 2 * 8 - 4 * 0 * 7 - 1 * 3 * 5 = \n",
    "40 + 0 + 189 - 144 - 0 - 15 = 70$"
   ]
  },
  {
   "cell_type": "markdown",
   "id": "6bb26534",
   "metadata": {},
   "source": [
    "Или через миноры:"
   ]
  },
  {
   "cell_type": "markdown",
   "id": "2ba19bda",
   "metadata": {},
   "source": [
    "$\n",
    "|A| = \\\n",
    "\\begin{vmatrix}\n",
    "4 & 1 & 9\\\\\n",
    "3 & 2 & 0\\\\\n",
    "8 & 7 & 5\n",
    "\\end{vmatrix}\\\n",
    "=\\\n",
    "A_{11}\n",
    "\\begin{vmatrix}\n",
    "A_{22} & A_{23}\\\\\n",
    "A_{32} & A_{33}\n",
    "\\end{vmatrix}\\\n",
    "-\\\n",
    "A_{12}\n",
    "\\begin{vmatrix}\n",
    "A_{21} & A_{23}\\\\\n",
    "A_{31} & A_{33}\n",
    "\\end{vmatrix}\\\n",
    "+\\\n",
    "A_{13}\n",
    "\\begin{vmatrix}\n",
    "A_{21} & A_{22}\\\\\n",
    "A_{31} & A_{32}\n",
    "\\end{vmatrix}\n",
    "=\\\n",
    "4\n",
    "\\begin{vmatrix}\n",
    "2 & 0\\\\\n",
    "7 & 5\n",
    "\\end{vmatrix}\\\n",
    "-\\\n",
    "1\n",
    "\\begin{vmatrix}\n",
    "3 & 0\\\\\n",
    "8 & 5\n",
    "\\end{vmatrix}\\\n",
    "+\\\n",
    "9\n",
    "\\begin{vmatrix}\n",
    "3 & 2\\\\\n",
    "8 & 7\n",
    "\\end{vmatrix}\n",
    "$"
   ]
  },
  {
   "cell_type": "markdown",
   "id": "1a611cef",
   "metadata": {},
   "source": [
    "$|A| = 4 * (2 * 5 - 0 * 7) - 1 * (3 * 5 - 0 * 8) + 9 * (3 * 7 - 2 * 8) = 4 * 10 - 1 * 15 + 9 * 5 = 40 - 15 + 45 = 70$"
   ]
  },
  {
   "cell_type": "code",
   "execution_count": 5,
   "id": "b927fd41",
   "metadata": {},
   "outputs": [
    {
     "data": {
      "text/plain": [
       "70"
      ]
     },
     "execution_count": 5,
     "metadata": {},
     "output_type": "execute_result"
    }
   ],
   "source": [
    "A = np.array([[4, 1, 9],\n",
    "              [3, 2, 0],\n",
    "              [8, 7, 5]])\n",
    "\n",
    "round(np.linalg.det(A))"
   ]
  },
  {
   "cell_type": "code",
   "execution_count": null,
   "id": "4d50b6ab",
   "metadata": {},
   "outputs": [],
   "source": []
  }
 ],
 "metadata": {
  "kernelspec": {
   "display_name": "Python 3 (ipykernel)",
   "language": "python",
   "name": "python3"
  },
  "language_info": {
   "codemirror_mode": {
    "name": "ipython",
    "version": 3
   },
   "file_extension": ".py",
   "mimetype": "text/x-python",
   "name": "python",
   "nbconvert_exporter": "python",
   "pygments_lexer": "ipython3",
   "version": "3.9.13"
  }
 },
 "nbformat": 4,
 "nbformat_minor": 5
}
