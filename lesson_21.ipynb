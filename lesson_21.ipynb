{
 "cells": [
  {
   "cell_type": "code",
   "execution_count": 1,
   "id": "7b32010b",
   "metadata": {},
   "outputs": [],
   "source": [
    "from sympy import *\n",
    "init_printing()"
   ]
  },
  {
   "cell_type": "markdown",
   "id": "698e50d5",
   "metadata": {},
   "source": [
    "#### 1. Вынести пределы"
   ]
  },
  {
   "cell_type": "markdown",
   "id": "53abd2bb",
   "metadata": {},
   "source": [
    "$\n",
    "\\displaystyle{\\lim_{x \\to \\infty}}\\ \\frac{3 + x + x^2}{2x + 4x^2} = \\left(\\frac{\\infty}{\\infty}\\right) = \n",
    "\\displaystyle{\\lim_{x \\to \\infty}}\\ \\frac{\\frac{3}{x^2}^{\\to 0} + \\frac{1}{x}^{\\to 0} + 1}{\\frac{2}{x}^{\\to 0} + 4} = \\frac{1}{4}\n",
    "$"
   ]
  },
  {
   "cell_type": "code",
   "execution_count": 2,
   "id": "3e2b88b9",
   "metadata": {},
   "outputs": [
    {
     "data": {
      "image/png": "[encoded data removed]",
      "text/latex": [
       "$\\displaystyle \\frac{1}{4}$"
      ],
      "text/plain": [
       "1/4"
      ]
     },
     "execution_count": 2,
     "metadata": {},
     "output_type": "execute_result"
    }
   ],
   "source": [
    "x = Symbol('x')\n",
    "a = (3 + x + x ** 2) / (2 * x + 4 * x ** 2)\n",
    "limit(a, x, oo)"
   ]
  },
  {
   "cell_type": "markdown",
   "id": "69d6042a",
   "metadata": {},
   "source": [
    "$\n",
    "\\displaystyle{\\lim_{x \\to 0}}\\ \\frac{3x - 6}{x^2 + 4} = \\displaystyle{\\lim_{x \\to 0}}\\ \\frac{3 * 0 - 6}{0^2 + 4} = \n",
    "\\left(\\frac{-6}{4}\\right) = \\left(\\frac{-3}{2}\\right) = -1.5\n",
    "$"
   ]
  },
  {
   "cell_type": "code",
   "execution_count": 3,
   "id": "9b90e762",
   "metadata": {},
   "outputs": [
    {
     "data": {
      "image/png": "[encoded data removed]",
      "text/latex": [
       "$\\displaystyle - \\frac{3}{2}$"
      ],
      "text/plain": [
       "-3/2"
      ]
     },
     "execution_count": 3,
     "metadata": {},
     "output_type": "execute_result"
    }
   ],
   "source": [
    "x = Symbol('x')\n",
    "a = (3 * x - 6) / (x ** 2 + 4)\n",
    "limit(a, x, 0)"
   ]
  },
  {
   "cell_type": "markdown",
   "id": "435a1d4e",
   "metadata": {},
   "source": [
    "#### 2. Вычислить производные"
   ]
  },
  {
   "cell_type": "markdown",
   "id": "1acfddce",
   "metadata": {},
   "source": [
    "$\n",
    "y = \\sin{x}\\\\\n",
    "(\\sin{x})' = \\cos{x}\n",
    "$"
   ]
  },
  {
   "cell_type": "code",
   "execution_count": 4,
   "id": "495cc6ed",
   "metadata": {},
   "outputs": [
    {
     "data": {
      "image/png": "[encoded data removed]",
      "text/latex": [
       "$\\displaystyle \\cos{\\left(x \\right)}$"
      ],
      "text/plain": [
       "cos(x)"
      ]
     },
     "execution_count": 4,
     "metadata": {},
     "output_type": "execute_result"
    }
   ],
   "source": [
    "x = Symbol('x')\n",
    "f = sin(x)\n",
    "diff(f, x)"
   ]
  },
  {
   "cell_type": "markdown",
   "id": "52c6e585",
   "metadata": {},
   "source": [
    "$\n",
    "y = 10x + 3x^2\\\\\n",
    "(f(x) + g(x))' = f'(x) + g'(x) \\Rightarrow (10x + 3x^2)' = (10x)' + (3x^2)' = 10 + 6x\n",
    "$"
   ]
  },
  {
   "cell_type": "code",
   "execution_count": 5,
   "id": "94938ba4",
   "metadata": {},
   "outputs": [
    {
     "data": {
      "image/png": "[encoded data removed]",
      "text/latex": [
       "$\\displaystyle 6 x + 10$"
      ],
      "text/plain": [
       "6⋅x + 10"
      ]
     },
     "execution_count": 5,
     "metadata": {},
     "output_type": "execute_result"
    }
   ],
   "source": [
    "x = Symbol('x')\n",
    "f = 10 * x + 3 * x ** 2\n",
    "diff(f, x)"
   ]
  },
  {
   "cell_type": "markdown",
   "id": "12d76c23",
   "metadata": {},
   "source": [
    "#### 3. Найти интеграл"
   ]
  },
  {
   "cell_type": "markdown",
   "id": "91bff85d",
   "metadata": {},
   "source": [
    "$\n",
    "y = \\cos{x}\\\\\n",
    "\\int \\cos{x}\\ dx = \\sin{x} + C\n",
    "$"
   ]
  },
  {
   "cell_type": "code",
   "execution_count": 6,
   "id": "409b122d",
   "metadata": {},
   "outputs": [
    {
     "data": {
      "image/png": "[encoded data removed]",
      "text/latex": [
       "$\\displaystyle \\sin{\\left(x \\right)}$"
      ],
      "text/plain": [
       "sin(x)"
      ]
     },
     "execution_count": 6,
     "metadata": {},
     "output_type": "execute_result"
    }
   ],
   "source": [
    "x = Symbol('x')\n",
    "f = cos(x)\n",
    "integrate(f, x)"
   ]
  },
  {
   "cell_type": "markdown",
   "id": "d72f261c",
   "metadata": {},
   "source": [
    "$\n",
    "y = 10^xdx\\\\\n",
    "\\int 10^xdx = \\frac{10^x}{\\ln{10}} + C\n",
    "$"
   ]
  },
  {
   "cell_type": "code",
   "execution_count": 7,
   "id": "c388856f",
   "metadata": {},
   "outputs": [
    {
     "data": {
      "image/png": "[encoded data removed]",
      "text/latex": [
       "$\\displaystyle \\frac{10^{x}}{\\log{\\left(10 \\right)}}$"
      ],
      "text/plain": [
       "    x  \n",
       "  10   \n",
       "───────\n",
       "log(10)"
      ]
     },
     "execution_count": 7,
     "metadata": {},
     "output_type": "execute_result"
    }
   ],
   "source": [
    "x = Symbol('x')\n",
    "f = 10 ** x\n",
    "integrate(f, x)"
   ]
  },
  {
   "cell_type": "code",
   "execution_count": null,
   "id": "1b39a236",
   "metadata": {},
   "outputs": [],
   "source": []
  }
 ],
 "metadata": {
  "kernelspec": {
   "display_name": "Python 3 (ipykernel)",
   "language": "python",
   "name": "python3"
  },
  "language_info": {
   "codemirror_mode": {
    "name": "ipython",
    "version": 3
   },
   "file_extension": ".py",
   "mimetype": "text/x-python",
   "name": "python",
   "nbconvert_exporter": "python",
   "pygments_lexer": "ipython3",
   "version": "3.9.13"
  }
 },
 "nbformat": 4,
 "nbformat_minor": 5
}
