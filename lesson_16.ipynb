{
 "cells": [
  {
   "cell_type": "code",
   "execution_count": 1,
   "id": "f846166f",
   "metadata": {},
   "outputs": [],
   "source": [
    "import numpy as np"
   ]
  },
  {
   "cell_type": "code",
   "execution_count": 2,
   "id": "c1c1bfe6",
   "metadata": {},
   "outputs": [
    {
     "data": {
      "text/plain": [
       "[12, 29, 29, 29, 53, 53, 57, 58, 60, 73, 81, 82, 84, 90]"
      ]
     },
     "execution_count": 2,
     "metadata": {},
     "output_type": "execute_result"
    }
   ],
   "source": [
    "arr = sorted(np.random.randint(0, 100, 14))\n",
    "arr"
   ]
  },
  {
   "cell_type": "markdown",
   "id": "3182c247",
   "metadata": {},
   "source": [
    "### Реализовать бинарный поиск"
   ]
  },
  {
   "cell_type": "code",
   "execution_count": 3,
   "id": "80a14dcc",
   "metadata": {},
   "outputs": [],
   "source": [
    "def binary_search(array, value):\n",
    "    first = 0\n",
    "    last = len(array) - 1\n",
    "    pos = len(array) // 2\n",
    "\n",
    "    if value in array:\n",
    "        while array[pos] != value and first <= last:\n",
    "            if value > array[pos]:\n",
    "                first = pos + 1\n",
    "            else:\n",
    "                last = pos - 1\n",
    "            pos = (first + last) // 2\n",
    "        return pos\n",
    "    else:\n",
    "        return -1"
   ]
  },
  {
   "cell_type": "code",
   "execution_count": 4,
   "id": "3930c88f",
   "metadata": {},
   "outputs": [
    {
     "data": {
      "text/plain": [
       "14"
      ]
     },
     "execution_count": 4,
     "metadata": {},
     "output_type": "execute_result"
    }
   ],
   "source": [
    "len(arr)"
   ]
  },
  {
   "cell_type": "code",
   "execution_count": 5,
   "id": "5fb492b4",
   "metadata": {},
   "outputs": [
    {
     "data": {
      "text/plain": [
       "7"
      ]
     },
     "execution_count": 5,
     "metadata": {},
     "output_type": "execute_result"
    }
   ],
   "source": [
    "binary_search(arr, 58)"
   ]
  },
  {
   "cell_type": "code",
   "execution_count": 6,
   "id": "bdb3282c",
   "metadata": {},
   "outputs": [
    {
     "data": {
      "text/plain": [
       "13"
      ]
     },
     "execution_count": 6,
     "metadata": {},
     "output_type": "execute_result"
    }
   ],
   "source": [
    "binary_search(arr, 90)"
   ]
  },
  {
   "cell_type": "code",
   "execution_count": 7,
   "id": "b6f7cc06",
   "metadata": {},
   "outputs": [
    {
     "data": {
      "text/plain": [
       "-1"
      ]
     },
     "execution_count": 7,
     "metadata": {},
     "output_type": "execute_result"
    }
   ],
   "source": [
    "binary_search(arr, 101)"
   ]
  },
  {
   "cell_type": "markdown",
   "id": "6e10c529",
   "metadata": {},
   "source": [
    "### Реализовать несколько алгоритмов сортировки и сравнить их время работы на одних и тех же входных данных"
   ]
  },
  {
   "cell_type": "markdown",
   "id": "c45438a3",
   "metadata": {},
   "source": [
    "#### Сортировка пузырьком"
   ]
  },
  {
   "cell_type": "code",
   "execution_count": 8,
   "id": "2bec1a7a",
   "metadata": {},
   "outputs": [
    {
     "data": {
      "text/plain": [
       "[90, 60, 53, 29, 29, 58, 82, 57, 81, 12, 84, 29, 53, 73]"
      ]
     },
     "execution_count": 8,
     "metadata": {},
     "output_type": "execute_result"
    }
   ],
   "source": [
    "np.random.shuffle(arr)\n",
    "arr"
   ]
  },
  {
   "cell_type": "code",
   "execution_count": 9,
   "id": "6babfc99",
   "metadata": {},
   "outputs": [],
   "source": [
    "def bubble_sort(array):\n",
    "    n = len(array)\n",
    "    flag = False\n",
    "\n",
    "    for i in range(n - 1):\n",
    "        flag = False\n",
    "        for j in range(n - i - 1):\n",
    "            if array[j] > array[j + 1]:\n",
    "                array[j], array[j + 1] = array[j + 1], array[j]\n",
    "                flag = True\n",
    "        if flag is False:\n",
    "            break\n",
    "\n",
    "    return array"
   ]
  },
  {
   "cell_type": "code",
   "execution_count": 10,
   "id": "b11a5c92",
   "metadata": {},
   "outputs": [
    {
     "data": {
      "text/plain": [
       "[12, 29, 29, 29, 53, 53, 57, 58, 60, 73, 81, 82, 84, 90]"
      ]
     },
     "execution_count": 10,
     "metadata": {},
     "output_type": "execute_result"
    }
   ],
   "source": [
    "bubble_sort(arr)"
   ]
  },
  {
   "cell_type": "markdown",
   "id": "e78e7d4f",
   "metadata": {},
   "source": [
    "#### Сортировка выбором"
   ]
  },
  {
   "cell_type": "code",
   "execution_count": 11,
   "id": "570180c4",
   "metadata": {},
   "outputs": [
    {
     "data": {
      "text/plain": [
       "[12, 73, 29, 57, 84, 29, 58, 90, 82, 53, 53, 29, 81, 60]"
      ]
     },
     "execution_count": 11,
     "metadata": {},
     "output_type": "execute_result"
    }
   ],
   "source": [
    "np.random.shuffle(arr)\n",
    "arr"
   ]
  },
  {
   "cell_type": "code",
   "execution_count": 12,
   "id": "83a68968",
   "metadata": {},
   "outputs": [],
   "source": [
    "def choice_sort(array):\n",
    "    n = len(array)\n",
    "\n",
    "    for i in range(n - 1):\n",
    "        if i == 0:\n",
    "            mx = max(array)\n",
    "        else:\n",
    "            mx = max(array[:-i])\n",
    "        idx = array.index(mx)\n",
    "        array[idx], array[-i - 1] = array[-i - 1], array[idx]\n",
    "\n",
    "    return array"
   ]
  },
  {
   "cell_type": "code",
   "execution_count": 13,
   "id": "7e09a24a",
   "metadata": {},
   "outputs": [
    {
     "data": {
      "text/plain": [
       "[12, 29, 29, 29, 53, 53, 57, 58, 60, 73, 81, 82, 84, 90]"
      ]
     },
     "execution_count": 13,
     "metadata": {},
     "output_type": "execute_result"
    }
   ],
   "source": [
    "choice_sort(arr)"
   ]
  },
  {
   "cell_type": "markdown",
   "id": "3d26e6f4",
   "metadata": {},
   "source": [
    "#### Сортировка простыми вставками"
   ]
  },
  {
   "cell_type": "code",
   "execution_count": 14,
   "id": "5837b534",
   "metadata": {},
   "outputs": [
    {
     "data": {
      "text/plain": [
       "[29, 29, 60, 84, 73, 12, 81, 57, 82, 90, 58, 53, 53, 29]"
      ]
     },
     "execution_count": 14,
     "metadata": {},
     "output_type": "execute_result"
    }
   ],
   "source": [
    "np.random.shuffle(arr)\n",
    "arr"
   ]
  },
  {
   "cell_type": "code",
   "execution_count": 15,
   "id": "96728ca7",
   "metadata": {},
   "outputs": [],
   "source": [
    "def insert_sort(array):\n",
    "    n = len(array)\n",
    "    \n",
    "    for i in range(1, n):\n",
    "        value = array[i]\n",
    "        j = i\n",
    "        \n",
    "        while j >= 1 and array[j - 1] > value:\n",
    "            array[j] = array[j - 1]\n",
    "            j -= 1\n",
    "            \n",
    "        array[j] = value\n",
    "        \n",
    "    return array"
   ]
  },
  {
   "cell_type": "code",
   "execution_count": 16,
   "id": "d7d2f648",
   "metadata": {},
   "outputs": [
    {
     "data": {
      "text/plain": [
       "[12, 29, 29, 29, 53, 53, 57, 58, 60, 73, 81, 82, 84, 90]"
      ]
     },
     "execution_count": 16,
     "metadata": {},
     "output_type": "execute_result"
    }
   ],
   "source": [
    "insert_sort(arr)"
   ]
  },
  {
   "cell_type": "markdown",
   "id": "aca5bcf8",
   "metadata": {},
   "source": [
    "#### Сортировка простыми вставками с использованием бинарного поиска"
   ]
  },
  {
   "cell_type": "code",
   "execution_count": 17,
   "id": "b93da5c6",
   "metadata": {},
   "outputs": [
    {
     "data": {
      "text/plain": [
       "[73, 53, 57, 53, 81, 84, 29, 12, 29, 29, 60, 58, 90, 82]"
      ]
     },
     "execution_count": 17,
     "metadata": {},
     "output_type": "execute_result"
    }
   ],
   "source": [
    "np.random.shuffle(arr)\n",
    "arr"
   ]
  },
  {
   "cell_type": "code",
   "execution_count": 18,
   "id": "76d2640b",
   "metadata": {},
   "outputs": [],
   "source": [
    "def insert_sort_with_binary_search(array):\n",
    "    n = len(array)\n",
    "    \n",
    "    for i in range(1, n):\n",
    "        value = array[i]\n",
    "        first = 0\n",
    "        last = i - 1\n",
    "\n",
    "        while first <= last:\n",
    "            mid = (first + last) // 2\n",
    "            if value == array[mid]:\n",
    "                first = mid + 1\n",
    "                break\n",
    "            elif array[mid] < value:\n",
    "                first = mid + 1\n",
    "            elif array[mid] > value:\n",
    "                last = mid - 1\n",
    "\n",
    "        j = i\n",
    "        \n",
    "        while j >= first:\n",
    "            array[j] = array[j - 1]\n",
    "            j -= 1\n",
    "            \n",
    "        array[first] = value\n",
    "        \n",
    "    return array"
   ]
  },
  {
   "cell_type": "code",
   "execution_count": 19,
   "id": "450aec34",
   "metadata": {},
   "outputs": [
    {
     "data": {
      "text/plain": [
       "[12, 29, 29, 29, 53, 53, 57, 58, 60, 73, 81, 82, 84, 90]"
      ]
     },
     "execution_count": 19,
     "metadata": {},
     "output_type": "execute_result"
    }
   ],
   "source": [
    "insert_sort_with_binary_search(arr)"
   ]
  },
  {
   "cell_type": "code",
   "execution_count": null,
   "id": "fece3b2a",
   "metadata": {},
   "outputs": [],
   "source": []
  }
 ],
 "metadata": {
  "kernelspec": {
   "display_name": "Python 3 (ipykernel)",
   "language": "python",
   "name": "python3"
  },
  "language_info": {
   "codemirror_mode": {
    "name": "ipython",
    "version": 3
   },
   "file_extension": ".py",
   "mimetype": "text/x-python",
   "name": "python",
   "nbconvert_exporter": "python",
   "pygments_lexer": "ipython3",
   "version": "3.9.13"
  }
 },
 "nbformat": 4,
 "nbformat_minor": 5
}
